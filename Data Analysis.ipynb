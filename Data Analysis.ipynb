{
 "cells": [
  {
   "cell_type": "markdown",
   "id": "46a8dd7b",
   "metadata": {},
   "source": [
    "# Classificação de Vidros\n",
    "\n",
    "Esta base de dados é de origem do Kaggle (disponível em: https://www.kaggle.com/uciml/glass). Este trabalho tem por intuito obter a base de dados do Kaggle, explorar os dados para obter *insights*, analisar e treinar modelos de *Machine Learning* (ML) e verificar se é possível classificar adequadamente os tipos de vidro. Este *Jupyter Notebook* está dividido nos seguintes tópicos:\n",
    "\n",
    "1. Análise Exploratória dos Dados (EDA)\n",
    "2. Visualização de Dados\n",
    "3. Pré processamento\n",
    "4. Modelo de *Machine Learning*\n",
    "5. Resultados\n",
    "\n",
    "### Importando bibliotecas"
   ]
  },
  {
   "cell_type": "code",
   "execution_count": 1,
   "id": "7ff3f91f",
   "metadata": {},
   "outputs": [],
   "source": [
    "#data manipulation\n",
    "import numpy as np\n",
    "import pandas as pd\n",
    "\n",
    "#Data visualization\n",
    "import seaborn as sns\n",
    "import matplotlib.pyplot as plt\n",
    "\n",
    "#Machine Learning\n",
    "from sklearn.model_selection import train_test_split, GridSearchCV\n",
    "from sklearn.preprocessing import StandardScaler\n",
    "from sklearn.linear_model import LogisticRegression\n",
    "from sklearn.tree import DecisionTreeClassifier, plot_tree\n",
    "\n",
    "#set color pallete to pictures\n",
    "sns.set_palette(palette='YlGnBu')\n",
    "sns.set_style('darkgrid')\n",
    "\n",
    "#Reading data\n",
    "file_path = './data/glass.csv'\n",
    "df = pd.read_csv(file_path)"
   ]
  },
  {
   "cell_type": "markdown",
   "id": "25963da3",
   "metadata": {},
   "source": [
    "## 1. Análise Exploratória dos Dados"
   ]
  },
  {
   "cell_type": "markdown",
   "id": "3c27542a",
   "metadata": {},
   "source": [
    "Primeiramente vamos olhar para o cabeçário dos dados, isto é, para as primeiras linhas da base de dados. É possível observar que os dados são unicamente numéricos."
   ]
  },
  {
   "cell_type": "code",
   "execution_count": 2,
   "id": "eeb3eac4",
   "metadata": {},
   "outputs": [
    {
     "data": {
      "text/html": [
       "<div>\n",
       "<style scoped>\n",
       "    .dataframe tbody tr th:only-of-type {\n",
       "        vertical-align: middle;\n",
       "    }\n",
       "\n",
       "    .dataframe tbody tr th {\n",
       "        vertical-align: top;\n",
       "    }\n",
       "\n",
       "    .dataframe thead th {\n",
       "        text-align: right;\n",
       "    }\n",
       "</style>\n",
       "<table border=\"1\" class=\"dataframe\">\n",
       "  <thead>\n",
       "    <tr style=\"text-align: right;\">\n",
       "      <th></th>\n",
       "      <th>RI</th>\n",
       "      <th>Na</th>\n",
       "      <th>Mg</th>\n",
       "      <th>Al</th>\n",
       "      <th>Si</th>\n",
       "      <th>K</th>\n",
       "      <th>Ca</th>\n",
       "      <th>Ba</th>\n",
       "      <th>Fe</th>\n",
       "      <th>Type</th>\n",
       "    </tr>\n",
       "  </thead>\n",
       "  <tbody>\n",
       "    <tr>\n",
       "      <th>0</th>\n",
       "      <td>1.52101</td>\n",
       "      <td>13.64</td>\n",
       "      <td>4.49</td>\n",
       "      <td>1.10</td>\n",
       "      <td>71.78</td>\n",
       "      <td>0.06</td>\n",
       "      <td>8.75</td>\n",
       "      <td>0.0</td>\n",
       "      <td>0.0</td>\n",
       "      <td>1</td>\n",
       "    </tr>\n",
       "    <tr>\n",
       "      <th>1</th>\n",
       "      <td>1.51761</td>\n",
       "      <td>13.89</td>\n",
       "      <td>3.60</td>\n",
       "      <td>1.36</td>\n",
       "      <td>72.73</td>\n",
       "      <td>0.48</td>\n",
       "      <td>7.83</td>\n",
       "      <td>0.0</td>\n",
       "      <td>0.0</td>\n",
       "      <td>1</td>\n",
       "    </tr>\n",
       "    <tr>\n",
       "      <th>2</th>\n",
       "      <td>1.51618</td>\n",
       "      <td>13.53</td>\n",
       "      <td>3.55</td>\n",
       "      <td>1.54</td>\n",
       "      <td>72.99</td>\n",
       "      <td>0.39</td>\n",
       "      <td>7.78</td>\n",
       "      <td>0.0</td>\n",
       "      <td>0.0</td>\n",
       "      <td>1</td>\n",
       "    </tr>\n",
       "    <tr>\n",
       "      <th>3</th>\n",
       "      <td>1.51766</td>\n",
       "      <td>13.21</td>\n",
       "      <td>3.69</td>\n",
       "      <td>1.29</td>\n",
       "      <td>72.61</td>\n",
       "      <td>0.57</td>\n",
       "      <td>8.22</td>\n",
       "      <td>0.0</td>\n",
       "      <td>0.0</td>\n",
       "      <td>1</td>\n",
       "    </tr>\n",
       "    <tr>\n",
       "      <th>4</th>\n",
       "      <td>1.51742</td>\n",
       "      <td>13.27</td>\n",
       "      <td>3.62</td>\n",
       "      <td>1.24</td>\n",
       "      <td>73.08</td>\n",
       "      <td>0.55</td>\n",
       "      <td>8.07</td>\n",
       "      <td>0.0</td>\n",
       "      <td>0.0</td>\n",
       "      <td>1</td>\n",
       "    </tr>\n",
       "  </tbody>\n",
       "</table>\n",
       "</div>"
      ],
      "text/plain": [
       "        RI     Na    Mg    Al     Si     K    Ca   Ba   Fe  Type\n",
       "0  1.52101  13.64  4.49  1.10  71.78  0.06  8.75  0.0  0.0     1\n",
       "1  1.51761  13.89  3.60  1.36  72.73  0.48  7.83  0.0  0.0     1\n",
       "2  1.51618  13.53  3.55  1.54  72.99  0.39  7.78  0.0  0.0     1\n",
       "3  1.51766  13.21  3.69  1.29  72.61  0.57  8.22  0.0  0.0     1\n",
       "4  1.51742  13.27  3.62  1.24  73.08  0.55  8.07  0.0  0.0     1"
      ]
     },
     "execution_count": 2,
     "metadata": {},
     "output_type": "execute_result"
    }
   ],
   "source": [
    "df.head()"
   ]
  },
  {
   "cell_type": "markdown",
   "id": "564f94f0",
   "metadata": {},
   "source": [
    "A base de dados possui 214 entradas e 10 colunas. Todos os atributos são números flutuantes, a coluna 'Type' é do tipo inteiro e não existem campos vazios, como mostra abaixo *non-null* para todos os atributos."
   ]
  },
  {
   "cell_type": "code",
   "execution_count": 3,
   "id": "f7522cb2",
   "metadata": {},
   "outputs": [
    {
     "name": "stdout",
     "output_type": "stream",
     "text": [
      "<class 'pandas.core.frame.DataFrame'>\n",
      "RangeIndex: 214 entries, 0 to 213\n",
      "Data columns (total 10 columns):\n",
      " #   Column  Non-Null Count  Dtype  \n",
      "---  ------  --------------  -----  \n",
      " 0   RI      214 non-null    float64\n",
      " 1   Na      214 non-null    float64\n",
      " 2   Mg      214 non-null    float64\n",
      " 3   Al      214 non-null    float64\n",
      " 4   Si      214 non-null    float64\n",
      " 5   K       214 non-null    float64\n",
      " 6   Ca      214 non-null    float64\n",
      " 7   Ba      214 non-null    float64\n",
      " 8   Fe      214 non-null    float64\n",
      " 9   Type    214 non-null    int64  \n",
      "dtypes: float64(9), int64(1)\n",
      "memory usage: 16.8 KB\n"
     ]
    }
   ],
   "source": [
    "df.info()"
   ]
  },
  {
   "cell_type": "code",
   "execution_count": 4,
   "id": "96f7ddf3",
   "metadata": {},
   "outputs": [
    {
     "name": "stdout",
     "output_type": "stream",
     "text": [
      "Colunas: ['RI' 'Na' 'Mg' 'Al' 'Si' 'K' 'Ca' 'Ba' 'Fe' 'Type']\n",
      "Classes: [1 2 3 5 6 7]\n"
     ]
    }
   ],
   "source": [
    "# Mostrar as colunas\n",
    "print('Colunas: {}'.format(df.columns.values))\n",
    "\n",
    "#Mostrar a quantidade de amostras de cada classe\n",
    "print('Classes: {}'.format(df['Type'].unique()))"
   ]
  },
  {
   "cell_type": "markdown",
   "id": "7a03cad1",
   "metadata": {},
   "source": [
    "A base de dados possui 10 colunas, sendo as 9 primeiras as features e a última o tipo de vidro. Cada feature significa:\n",
    "* RI - Índice de Fefração\n",
    "* Na - Sódio (unidade de medida: peso percentual no óxido correspondente, como o restante das features)\n",
    "* Mg - Magnésio\n",
    "* Al - Alumínio\n",
    "* Si -Silício\n",
    "* K - Potássio\n",
    "* Ca - Cálcio\n",
    "* Ba - Bário\n",
    "* Fe - Ferro\n",
    "\n",
    "As classes correspondem de 1 a 7 para cada tipo de vidro, tal que:\n",
    "* 1 - construção de janelas flutuante processado\n",
    "* 2 - building_windows_non_float_processed \n",
    "* 3 - vehicle_windows_float_processed \n",
    "* 4 - vehicle_windows_non_float_processed\n",
    "* 5 - containers \n",
    "* 6 - tableware \n",
    "* 7 - headlamps\n",
    "\n",
    "Percebe-se que na saída do código acima, em \"Classes\", não há o tipo 4. Isto é, não existe amostra para a classe 4."
   ]
  },
  {
   "cell_type": "markdown",
   "id": "f780ecd0",
   "metadata": {},
   "source": [
    "Agora vamos investigar se, na média, os tipos de vidro possuem diferentes concentrações de elementos. Para isto, veja a tabela a seguir:"
   ]
  },
  {
   "cell_type": "code",
   "execution_count": 5,
   "id": "55f2b320",
   "metadata": {
    "scrolled": false
   },
   "outputs": [
    {
     "data": {
      "text/html": [
       "<div>\n",
       "<style scoped>\n",
       "    .dataframe tbody tr th:only-of-type {\n",
       "        vertical-align: middle;\n",
       "    }\n",
       "\n",
       "    .dataframe tbody tr th {\n",
       "        vertical-align: top;\n",
       "    }\n",
       "\n",
       "    .dataframe thead th {\n",
       "        text-align: right;\n",
       "    }\n",
       "</style>\n",
       "<table border=\"1\" class=\"dataframe\">\n",
       "  <thead>\n",
       "    <tr style=\"text-align: right;\">\n",
       "      <th></th>\n",
       "      <th>RI</th>\n",
       "      <th>Na</th>\n",
       "      <th>Mg</th>\n",
       "      <th>Al</th>\n",
       "      <th>Si</th>\n",
       "      <th>K</th>\n",
       "      <th>Ca</th>\n",
       "      <th>Ba</th>\n",
       "      <th>Fe</th>\n",
       "    </tr>\n",
       "    <tr>\n",
       "      <th>Type</th>\n",
       "      <th></th>\n",
       "      <th></th>\n",
       "      <th></th>\n",
       "      <th></th>\n",
       "      <th></th>\n",
       "      <th></th>\n",
       "      <th></th>\n",
       "      <th></th>\n",
       "      <th></th>\n",
       "    </tr>\n",
       "  </thead>\n",
       "  <tbody>\n",
       "    <tr>\n",
       "      <th>1</th>\n",
       "      <td>1.518718</td>\n",
       "      <td>13.242286</td>\n",
       "      <td>3.552429</td>\n",
       "      <td>1.163857</td>\n",
       "      <td>72.619143</td>\n",
       "      <td>0.447429</td>\n",
       "      <td>8.797286</td>\n",
       "      <td>0.012714</td>\n",
       "      <td>0.057000</td>\n",
       "    </tr>\n",
       "    <tr>\n",
       "      <th>2</th>\n",
       "      <td>1.518619</td>\n",
       "      <td>13.111711</td>\n",
       "      <td>3.002105</td>\n",
       "      <td>1.408158</td>\n",
       "      <td>72.598026</td>\n",
       "      <td>0.521053</td>\n",
       "      <td>9.073684</td>\n",
       "      <td>0.050263</td>\n",
       "      <td>0.079737</td>\n",
       "    </tr>\n",
       "    <tr>\n",
       "      <th>3</th>\n",
       "      <td>1.517964</td>\n",
       "      <td>13.437059</td>\n",
       "      <td>3.543529</td>\n",
       "      <td>1.201176</td>\n",
       "      <td>72.404706</td>\n",
       "      <td>0.406471</td>\n",
       "      <td>8.782941</td>\n",
       "      <td>0.008824</td>\n",
       "      <td>0.057059</td>\n",
       "    </tr>\n",
       "    <tr>\n",
       "      <th>5</th>\n",
       "      <td>1.518928</td>\n",
       "      <td>12.827692</td>\n",
       "      <td>0.773846</td>\n",
       "      <td>2.033846</td>\n",
       "      <td>72.366154</td>\n",
       "      <td>1.470000</td>\n",
       "      <td>10.123846</td>\n",
       "      <td>0.187692</td>\n",
       "      <td>0.060769</td>\n",
       "    </tr>\n",
       "    <tr>\n",
       "      <th>6</th>\n",
       "      <td>1.517456</td>\n",
       "      <td>14.646667</td>\n",
       "      <td>1.305556</td>\n",
       "      <td>1.366667</td>\n",
       "      <td>73.206667</td>\n",
       "      <td>0.000000</td>\n",
       "      <td>9.356667</td>\n",
       "      <td>0.000000</td>\n",
       "      <td>0.000000</td>\n",
       "    </tr>\n",
       "    <tr>\n",
       "      <th>7</th>\n",
       "      <td>1.517116</td>\n",
       "      <td>14.442069</td>\n",
       "      <td>0.538276</td>\n",
       "      <td>2.122759</td>\n",
       "      <td>72.965862</td>\n",
       "      <td>0.325172</td>\n",
       "      <td>8.491379</td>\n",
       "      <td>1.040000</td>\n",
       "      <td>0.013448</td>\n",
       "    </tr>\n",
       "  </tbody>\n",
       "</table>\n",
       "</div>"
      ],
      "text/plain": [
       "            RI         Na        Mg        Al         Si         K         Ca  \\\n",
       "Type                                                                            \n",
       "1     1.518718  13.242286  3.552429  1.163857  72.619143  0.447429   8.797286   \n",
       "2     1.518619  13.111711  3.002105  1.408158  72.598026  0.521053   9.073684   \n",
       "3     1.517964  13.437059  3.543529  1.201176  72.404706  0.406471   8.782941   \n",
       "5     1.518928  12.827692  0.773846  2.033846  72.366154  1.470000  10.123846   \n",
       "6     1.517456  14.646667  1.305556  1.366667  73.206667  0.000000   9.356667   \n",
       "7     1.517116  14.442069  0.538276  2.122759  72.965862  0.325172   8.491379   \n",
       "\n",
       "            Ba        Fe  \n",
       "Type                      \n",
       "1     0.012714  0.057000  \n",
       "2     0.050263  0.079737  \n",
       "3     0.008824  0.057059  \n",
       "5     0.187692  0.060769  \n",
       "6     0.000000  0.000000  \n",
       "7     1.040000  0.013448  "
      ]
     },
     "execution_count": 5,
     "metadata": {},
     "output_type": "execute_result"
    }
   ],
   "source": [
    "df.groupby('Type').mean()"
   ]
  },
  {
   "cell_type": "markdown",
   "id": "bc95cbf4",
   "metadata": {},
   "source": [
    "Descrição geral da base de dados (média, desvio padrão, percentil):"
   ]
  },
  {
   "cell_type": "code",
   "execution_count": 6,
   "id": "d10d3ba9",
   "metadata": {},
   "outputs": [
    {
     "data": {
      "text/html": [
       "<div>\n",
       "<style scoped>\n",
       "    .dataframe tbody tr th:only-of-type {\n",
       "        vertical-align: middle;\n",
       "    }\n",
       "\n",
       "    .dataframe tbody tr th {\n",
       "        vertical-align: top;\n",
       "    }\n",
       "\n",
       "    .dataframe thead th {\n",
       "        text-align: right;\n",
       "    }\n",
       "</style>\n",
       "<table border=\"1\" class=\"dataframe\">\n",
       "  <thead>\n",
       "    <tr style=\"text-align: right;\">\n",
       "      <th></th>\n",
       "      <th>RI</th>\n",
       "      <th>Na</th>\n",
       "      <th>Mg</th>\n",
       "      <th>Al</th>\n",
       "      <th>Si</th>\n",
       "      <th>K</th>\n",
       "      <th>Ca</th>\n",
       "      <th>Ba</th>\n",
       "      <th>Fe</th>\n",
       "      <th>Type</th>\n",
       "    </tr>\n",
       "  </thead>\n",
       "  <tbody>\n",
       "    <tr>\n",
       "      <th>count</th>\n",
       "      <td>214.000000</td>\n",
       "      <td>214.000000</td>\n",
       "      <td>214.000000</td>\n",
       "      <td>214.000000</td>\n",
       "      <td>214.000000</td>\n",
       "      <td>214.000000</td>\n",
       "      <td>214.000000</td>\n",
       "      <td>214.000000</td>\n",
       "      <td>214.000000</td>\n",
       "      <td>214.000000</td>\n",
       "    </tr>\n",
       "    <tr>\n",
       "      <th>mean</th>\n",
       "      <td>1.518365</td>\n",
       "      <td>13.407850</td>\n",
       "      <td>2.684533</td>\n",
       "      <td>1.444907</td>\n",
       "      <td>72.650935</td>\n",
       "      <td>0.497056</td>\n",
       "      <td>8.956963</td>\n",
       "      <td>0.175047</td>\n",
       "      <td>0.057009</td>\n",
       "      <td>2.780374</td>\n",
       "    </tr>\n",
       "    <tr>\n",
       "      <th>std</th>\n",
       "      <td>0.003037</td>\n",
       "      <td>0.816604</td>\n",
       "      <td>1.442408</td>\n",
       "      <td>0.499270</td>\n",
       "      <td>0.774546</td>\n",
       "      <td>0.652192</td>\n",
       "      <td>1.423153</td>\n",
       "      <td>0.497219</td>\n",
       "      <td>0.097439</td>\n",
       "      <td>2.103739</td>\n",
       "    </tr>\n",
       "    <tr>\n",
       "      <th>min</th>\n",
       "      <td>1.511150</td>\n",
       "      <td>10.730000</td>\n",
       "      <td>0.000000</td>\n",
       "      <td>0.290000</td>\n",
       "      <td>69.810000</td>\n",
       "      <td>0.000000</td>\n",
       "      <td>5.430000</td>\n",
       "      <td>0.000000</td>\n",
       "      <td>0.000000</td>\n",
       "      <td>1.000000</td>\n",
       "    </tr>\n",
       "    <tr>\n",
       "      <th>25%</th>\n",
       "      <td>1.516522</td>\n",
       "      <td>12.907500</td>\n",
       "      <td>2.115000</td>\n",
       "      <td>1.190000</td>\n",
       "      <td>72.280000</td>\n",
       "      <td>0.122500</td>\n",
       "      <td>8.240000</td>\n",
       "      <td>0.000000</td>\n",
       "      <td>0.000000</td>\n",
       "      <td>1.000000</td>\n",
       "    </tr>\n",
       "    <tr>\n",
       "      <th>50%</th>\n",
       "      <td>1.517680</td>\n",
       "      <td>13.300000</td>\n",
       "      <td>3.480000</td>\n",
       "      <td>1.360000</td>\n",
       "      <td>72.790000</td>\n",
       "      <td>0.555000</td>\n",
       "      <td>8.600000</td>\n",
       "      <td>0.000000</td>\n",
       "      <td>0.000000</td>\n",
       "      <td>2.000000</td>\n",
       "    </tr>\n",
       "    <tr>\n",
       "      <th>75%</th>\n",
       "      <td>1.519157</td>\n",
       "      <td>13.825000</td>\n",
       "      <td>3.600000</td>\n",
       "      <td>1.630000</td>\n",
       "      <td>73.087500</td>\n",
       "      <td>0.610000</td>\n",
       "      <td>9.172500</td>\n",
       "      <td>0.000000</td>\n",
       "      <td>0.100000</td>\n",
       "      <td>3.000000</td>\n",
       "    </tr>\n",
       "    <tr>\n",
       "      <th>max</th>\n",
       "      <td>1.533930</td>\n",
       "      <td>17.380000</td>\n",
       "      <td>4.490000</td>\n",
       "      <td>3.500000</td>\n",
       "      <td>75.410000</td>\n",
       "      <td>6.210000</td>\n",
       "      <td>16.190000</td>\n",
       "      <td>3.150000</td>\n",
       "      <td>0.510000</td>\n",
       "      <td>7.000000</td>\n",
       "    </tr>\n",
       "  </tbody>\n",
       "</table>\n",
       "</div>"
      ],
      "text/plain": [
       "               RI          Na          Mg          Al          Si           K  \\\n",
       "count  214.000000  214.000000  214.000000  214.000000  214.000000  214.000000   \n",
       "mean     1.518365   13.407850    2.684533    1.444907   72.650935    0.497056   \n",
       "std      0.003037    0.816604    1.442408    0.499270    0.774546    0.652192   \n",
       "min      1.511150   10.730000    0.000000    0.290000   69.810000    0.000000   \n",
       "25%      1.516522   12.907500    2.115000    1.190000   72.280000    0.122500   \n",
       "50%      1.517680   13.300000    3.480000    1.360000   72.790000    0.555000   \n",
       "75%      1.519157   13.825000    3.600000    1.630000   73.087500    0.610000   \n",
       "max      1.533930   17.380000    4.490000    3.500000   75.410000    6.210000   \n",
       "\n",
       "               Ca          Ba          Fe        Type  \n",
       "count  214.000000  214.000000  214.000000  214.000000  \n",
       "mean     8.956963    0.175047    0.057009    2.780374  \n",
       "std      1.423153    0.497219    0.097439    2.103739  \n",
       "min      5.430000    0.000000    0.000000    1.000000  \n",
       "25%      8.240000    0.000000    0.000000    1.000000  \n",
       "50%      8.600000    0.000000    0.000000    2.000000  \n",
       "75%      9.172500    0.000000    0.100000    3.000000  \n",
       "max     16.190000    3.150000    0.510000    7.000000  "
      ]
     },
     "execution_count": 6,
     "metadata": {},
     "output_type": "execute_result"
    }
   ],
   "source": [
    "df.describe()"
   ]
  },
  {
   "cell_type": "markdown",
   "id": "d423e591",
   "metadata": {},
   "source": [
    "## 2. Visualização de Dados"
   ]
  },
  {
   "cell_type": "markdown",
   "id": "51783dc9",
   "metadata": {},
   "source": [
    "Primeiramente, vamos investigar a quantidade de vidros por tipo:"
   ]
  },
  {
   "cell_type": "code",
   "execution_count": 2,
   "id": "146fb75f",
   "metadata": {},
   "outputs": [
    {
     "data": {
      "image/png": "[encoded data removed]",
      "text/plain": [
       "<Figure size 720x432 with 1 Axes>"
      ]
     },
     "metadata": {},
     "output_type": "display_data"
    }
   ],
   "source": [
    "plt.figure(figsize=(10,6))\n",
    "plt.title('Total de amostras por classes', fontsize=16)\n",
    "sns.countplot(x='Type',data=df, order=[1,2,3,4,5,6,7],palette='viridis')\n",
    "plt.xlabel('Tipo de Vidro', fontsize=14)\n",
    "plt.ylabel('Quantidade de Amostras', fontsize=14)\n",
    "plt.savefig('amostras.png')"
   ]
  },
  {
   "cell_type": "markdown",
   "id": "4d0d0e8c",
   "metadata": {},
   "source": [
    "É perceptível que as classes 1 e 2 possuem mais amostras. Além disso, não existe amostra para a classe 4. Por haver quantidades diferentes de vidro por classe é preciso ter cuidado para modelar e pesar classes desbalanceadas."
   ]
  },
  {
   "cell_type": "markdown",
   "id": "c12db2ab",
   "metadata": {},
   "source": [
    "Agora queremos investigar se há alguma correlação entre os elementos químicos na composição do vidro. Para isto, foi criada uma matriz de correlação que consiste em calcular em termos percentuais a taxa de correlação linear entre duas variáveis. Para melhor visualização dessa matriz, vamos visualizá-la em um mapa de calor:"
   ]
  },
  {
   "cell_type": "code",
   "execution_count": 3,
   "id": "d2087931",
   "metadata": {},
   "outputs": [
    {
     "data": {
      "image/png": "[encoded data removed]",
      "text/plain": [
       "<Figure size 1080x720 with 2 Axes>"
      ]
     },
     "metadata": {},
     "output_type": "display_data"
    }
   ],
   "source": [
    "plt.figure(figsize=(15,10))\n",
    "sns.heatmap(df.drop('Type',axis=1).corr(), annot=True, cmap='viridis')\n",
    "plt.savefig('./figures/matrix.png')"
   ]
  },
  {
   "cell_type": "markdown",
   "id": "bc544730",
   "metadata": {},
   "source": [
    "Pode-se perceber que os elementos mais claros possuem maior correlação, os mais escuros correlação inversa e os intermediários possuem pouca correlação linear. Por exemplo, a maior correlação de atributos são o Índice de Refração (RI) e o elemento Cálcio (Ca) de valor 0.81. Por outro lado, o Índice de Refração (RI) e o Silício (Si) possui o valor mais negativo de -0.51, sugerindo uma correlação inversa."
   ]
  },
  {
   "cell_type": "markdown",
   "id": "10384741",
   "metadata": {},
   "source": [
    "Vamos olhar mais de perto essas duas correlações citadas:"
   ]
  },
  {
   "cell_type": "code",
   "execution_count": 4,
   "id": "4fa3da9f",
   "metadata": {
    "scrolled": false
   },
   "outputs": [
    {
     "data": {
      "image/png": "[encoded data removed]",
      "text/plain": [
       "<Figure size 864x432 with 2 Axes>"
      ]
     },
     "metadata": {},
     "output_type": "display_data"
    }
   ],
   "source": [
    "g = sns.PairGrid(df, y_vars=[\"RI\"], x_vars=[\"Ca\", \"Si\"], height=6, palette='viridis')\n",
    "g.map(sns.regplot, color=\".4\")\n",
    "g.fig.subplots_adjust(top=0.9)\n",
    "g.fig.suptitle('Correlação dos elementos Ca e Si em relação ao RI', fontsize=15)\n",
    "plt.savefig('./figures/elementos_corr.png')"
   ]
  },
  {
   "cell_type": "markdown",
   "id": "adb765db",
   "metadata": {},
   "source": [
    "De fato, para o primeiro exemplo entre Ca e RI a tendência linear é de aumento entre as duas variáveis, ao passo que, o segundo exemplo entre Si e RI é de tendência linear negativa entre as duas variáveis."
   ]
  },
  {
   "cell_type": "markdown",
   "id": "1468b57f",
   "metadata": {},
   "source": [
    "## 3. Pré processamento"
   ]
  },
  {
   "cell_type": "markdown",
   "id": "ae27504e",
   "metadata": {},
   "source": [
    "Como vamos trabalhar com alguns algoritmos de ML lineares é preciso que estes dados sejam preprocessados. Para isto vamos utilizar StandScaler para esta tarefa e utilizar o X_scaled para os algoritmos de ML que precisarem mesmo. Para árvores de decisão isto não será necessário."
   ]
  },
  {
   "cell_type": "code",
   "execution_count": 5,
   "id": "836bbb78",
   "metadata": {},
   "outputs": [],
   "source": [
    "# Dados originais\n",
    "X = df.drop(labels='Type',axis=1)\n",
    "y = df['Type']\n",
    "\n",
    "# Dados escalados no X_scaled\n",
    "scaler = StandardScaler().fit(X)\n",
    "X_scaled = scaler.transform(X)"
   ]
  },
  {
   "cell_type": "markdown",
   "id": "03cd92e9",
   "metadata": {},
   "source": [
    "## 4. Modelo de Machine Learning\n",
    "\n",
    "### 4.1 Decision Trees\n",
    "\n",
    "Primeiro vamos utilizar uma árvore de decisão e avaliar suas características. Como a base de dados é pequena, vamos procurar os melhores parâmetros que generalizem a classificação (queremos evitar o overfitting e underfitting). Para isto, vamos testar a profundidade da árvore e comparar o *score* do treino e do teste."
   ]
  },
  {
   "cell_type": "code",
   "execution_count": 6,
   "id": "b9e3aaf3",
   "metadata": {
    "scrolled": false
   },
   "outputs": [
    {
     "name": "stdout",
     "output_type": "stream",
     "text": [
      "DecisionTree - max_depth=2 | train_score=0.6241610738255033 | test_score=0.6307692307692307\n",
      "DecisionTree - max_depth=4 | train_score=0.8053691275167785 | test_score=0.6615384615384615\n",
      "DecisionTree - max_depth=5 | train_score=0.8523489932885906 | test_score=0.7076923076923077\n",
      "DecisionTree - max_depth=6 | train_score=0.8993288590604027 | test_score=0.6923076923076923\n",
      "DecisionTree - max_depth=8 | train_score=0.9865771812080537 | test_score=0.7230769230769231\n"
     ]
    }
   ],
   "source": [
    "# Get data\n",
    "X_train, X_test, y_train, y_test = train_test_split(X, y, stratify=y, test_size=0.3, random_state=101)\n",
    "\n",
    "param_grid = [2, 4, 5, 6, 8]\n",
    "classifiers = []\n",
    "\n",
    "for max_depth in param_grid:\n",
    "    clf = DecisionTreeClassifier(max_depth=max_depth, random_state=101)\n",
    "    clf.fit(X_train, y_train)\n",
    "    print('DecisionTree - max_depth={} | train_score={} | test_score={}'.format(max_depth, \\\n",
    "                                        clf.score(X_train, y_train), clf.score(X_test, y_test)))\n",
    "    \n",
    "    classifiers.append(clf)"
   ]
  },
  {
   "cell_type": "markdown",
   "id": "1bfae231",
   "metadata": {},
   "source": [
    "Temos diferentes *scores* em cada árvore de decisão. Na primeira árvore de profundidade 2 o score no treino e no teste ficou por volta de 62%. No outro extremo, de profundidade 8 o *score* do treino ficou em 98% e o *score* no teste ficou em 72% - um candidado a overfitting.\n",
    "\n",
    "As árvores de decisão que apresentam melhor *tradeoff* são as de profundidade 5 e 6, por terem bom resultado no *score* e um resultado similar no teste - um bom indício de generalização. Para mais análises, vamos escolher a árvore de profundidade 5."
   ]
  },
  {
   "cell_type": "code",
   "execution_count": 7,
   "id": "377d3148",
   "metadata": {},
   "outputs": [
    {
     "data": {
      "text/plain": [
       "<AxesSubplot:title={'center':'Importância de variáveis'}>"
      ]
     },
     "execution_count": 7,
     "metadata": {},
     "output_type": "execute_result"
    },
    {
     "data": {
      "image/png": "[encoded data removed]",
      "text/plain": [
       "<Figure size 648x432 with 1 Axes>"
      ]
     },
     "metadata": {},
     "output_type": "display_data"
    }
   ],
   "source": [
    "dt = classifiers[2]\n",
    "df_decisionTree = pd.Series(dt.feature_importances_, index=df.columns.values[0:-1])\n",
    "\n",
    "plt.figure(figsize=(9,6))\n",
    "plt.title('Importância de variáveis', fontsize=15)\n",
    "sns.set_palette('viridis')\n",
    "df_decisionTree.plot(kind='bar')"
   ]
  },
  {
   "cell_type": "code",
   "execution_count": 11,
   "id": "7f01ad08",
   "metadata": {},
   "outputs": [],
   "source": [
    "dt_predictions = dt.predict(X_test)"
   ]
  },
  {
   "cell_type": "markdown",
   "id": "ec76a053",
   "metadata": {},
   "source": [
    "### 4.2 Regressão Logística"
   ]
  },
  {
   "cell_type": "code",
   "execution_count": 8,
   "id": "383fd5a9",
   "metadata": {},
   "outputs": [
    {
     "name": "stdout",
     "output_type": "stream",
     "text": [
      "Logistic Regression C=0.01 | train_score=0.6375838926174496 | test_score=0.5692307692307692\n",
      "Logistic Regression C=0.1 | train_score=0.6778523489932886 | test_score=0.6153846153846154\n",
      "Logistic Regression C=1.0 | train_score=0.7046979865771812 | test_score=0.676923076923077\n",
      "Logistic Regression C=10 | train_score=0.7181208053691275 | test_score=0.6923076923076923\n",
      "Logistic Regression C=100 | train_score=0.7583892617449665 | test_score=0.6615384615384615\n"
     ]
    }
   ],
   "source": [
    "from sklearn.linear_model import LogisticRegression\n",
    "\n",
    "#Get data\n",
    "\n",
    "X_train, X_test, y_train, y_test = train_test_split(X_scaled, y, stratify=y, test_size=0.3, random_state=101)\n",
    "\n",
    "#Test parameters\n",
    "C = [0.01, 0.1, 1.0, 10, 100]\n",
    "classifiers = []\n",
    "\n",
    "for c in C:\n",
    "    clf = LogisticRegression(C=c, random_state=101, n_jobs=-1, max_iter=1000)\n",
    "    clf.fit(X_scaled, y)\n",
    "    \n",
    "    print('Logistic Regression C={} | train_score={} | test_score={}'.format(c, clf.score(X_train, y_train) \\\n",
    "                                                                        ,clf.score(X_test, y_test)))\n",
    "    \n",
    "    classifiers.append(clf)"
   ]
  },
  {
   "cell_type": "code",
   "execution_count": 9,
   "id": "4e323d4c",
   "metadata": {},
   "outputs": [],
   "source": [
    "#Choose LogisticRegression\n",
    "lr=classifiers[3]\n",
    "lr_preditions = lr.predict(X_test)"
   ]
  },
  {
   "cell_type": "markdown",
   "id": "eded9a7d",
   "metadata": {},
   "source": [
    "## 5. Validação\n",
    "\n",
    "Temos dois modelos em mãos: O que escolher?\n",
    "\n"
   ]
  },
  {
   "cell_type": "code",
   "execution_count": 12,
   "id": "73af4956",
   "metadata": {},
   "outputs": [
    {
     "name": "stderr",
     "output_type": "stream",
     "text": [
      "/home/bombadil/anaconda3/lib/python3.9/site-packages/sklearn/metrics/_classification.py:1248: UndefinedMetricWarning: Recall and F-score are ill-defined and being set to 0.0 in labels with no true samples. Use `zero_division` parameter to control this behavior.\n",
      "  _warn_prf(average, modifier, msg_start, len(result))\n",
      "/home/bombadil/anaconda3/lib/python3.9/site-packages/sklearn/metrics/_classification.py:1248: UndefinedMetricWarning: Recall and F-score are ill-defined and being set to 0.0 in labels with no true samples. Use `zero_division` parameter to control this behavior.\n",
      "  _warn_prf(average, modifier, msg_start, len(result))\n",
      "/home/bombadil/anaconda3/lib/python3.9/site-packages/sklearn/metrics/_classification.py:1248: UndefinedMetricWarning: Recall and F-score are ill-defined and being set to 0.0 in labels with no true samples. Use `zero_division` parameter to control this behavior.\n",
      "  _warn_prf(average, modifier, msg_start, len(result))\n",
      "/home/bombadil/anaconda3/lib/python3.9/site-packages/sklearn/metrics/_classification.py:1248: UndefinedMetricWarning: Recall and F-score are ill-defined and being set to 0.0 in labels with no true samples. Use `zero_division` parameter to control this behavior.\n",
      "  _warn_prf(average, modifier, msg_start, len(result))\n",
      "/home/bombadil/anaconda3/lib/python3.9/site-packages/sklearn/metrics/_classification.py:1248: UndefinedMetricWarning: Recall and F-score are ill-defined and being set to 0.0 in labels with no true samples. Use `zero_division` parameter to control this behavior.\n",
      "  _warn_prf(average, modifier, msg_start, len(result))\n",
      "/home/bombadil/anaconda3/lib/python3.9/site-packages/sklearn/metrics/_classification.py:1248: UndefinedMetricWarning: Recall and F-score are ill-defined and being set to 0.0 in labels with no true samples. Use `zero_division` parameter to control this behavior.\n",
      "  _warn_prf(average, modifier, msg_start, len(result))\n"
     ]
    }
   ],
   "source": [
    "from sklearn.metrics import confusion_matrix, accuracy_score, classification_report\n",
    "\n",
    "conf1 = classification_report(dt_predictions, y_test)\n",
    "conf2 = classification_report(lr_preditions, y_test)"
   ]
  },
  {
   "cell_type": "code",
   "execution_count": 13,
   "id": "6bf8b37d",
   "metadata": {},
   "outputs": [
    {
     "name": "stdout",
     "output_type": "stream",
     "text": [
      "Decision Tree Classification Report\n",
      "              precision    recall  f1-score   support\n",
      "\n",
      "           1       0.67      0.64      0.65        22\n",
      "           2       0.70      0.62      0.65        26\n",
      "           3       0.00      0.00      0.00         0\n",
      "           5       0.75      0.75      0.75         4\n",
      "           6       1.00      1.00      1.00         3\n",
      "           7       1.00      0.90      0.95        10\n",
      "\n",
      "    accuracy                           0.69        65\n",
      "   macro avg       0.69      0.65      0.67        65\n",
      "weighted avg       0.75      0.69      0.72        65\n",
      "\n"
     ]
    }
   ],
   "source": [
    "print(\"Decision Tree Classification Report\")\n",
    "print(conf2)"
   ]
  },
  {
   "cell_type": "code",
   "execution_count": 14,
   "id": "54cc47a9",
   "metadata": {},
   "outputs": [
    {
     "name": "stdout",
     "output_type": "stream",
     "text": [
      "Logistic Regression Classification Report\n",
      "              precision    recall  f1-score   support\n",
      "\n",
      "           1       0.00      0.00      0.00         0\n",
      "           2       1.00      0.40      0.57        57\n",
      "           3       0.00      0.00      0.00         0\n",
      "           5       0.00      0.00      0.00         0\n",
      "           6       0.00      0.00      0.00         0\n",
      "           7       0.78      0.88      0.82         8\n",
      "\n",
      "    accuracy                           0.46        65\n",
      "   macro avg       0.30      0.21      0.23        65\n",
      "weighted avg       0.97      0.46      0.61        65\n",
      "\n"
     ]
    }
   ],
   "source": [
    "print(\"Logistic Regression Classification Report\")\n",
    "print(conf1)"
   ]
  },
  {
   "cell_type": "markdown",
   "id": "f19c1e05",
   "metadata": {},
   "source": [
    "Nos dois modelos acima é notório que ambos classificam razoavelmente bem todas as classes, exceto a classe 3. A classe 3 teve o pior resultado. Logo, este modelo serve bem para as classes 1, 2, 5, 6 e 7. Para classificar bem a classe 3 deveria-se ajustar o modelo para melhorar a acurácia nesta classe específica."
   ]
  }
 ],
 "metadata": {
  "kernelspec": {
   "display_name": "Python 3 (ipykernel)",
   "language": "python",
   "name": "python3"
  },
  "language_info": {
   "codemirror_mode": {
    "name": "ipython",
    "version": 3
   },
   "file_extension": ".py",
   "mimetype": "text/x-python",
   "name": "python",
   "nbconvert_exporter": "python",
   "pygments_lexer": "ipython3",
   "version": "3.9.7"
  }
 },
 "nbformat": 4,
 "nbformat_minor": 5
}
