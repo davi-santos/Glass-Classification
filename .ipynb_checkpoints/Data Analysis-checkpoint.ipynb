{
 "cells": [
  {
   "cell_type": "markdown",
   "id": "46a8dd7b",
   "metadata": {},
   "source": [
    "# Classificação de vidros\n",
    "\n",
    "Esta base de dados é de origem do Kaggle e o Kaggle pegou o UIC Machine Learning Repository. Este trabalho tem por intuito analisar e treinar modelos de Aprendizado de Máquina e verificar se é possível classificar adequadamente os tipos de vidro.\n",
    "\n",
    "1. Análise Exploratória dos Dados\n",
    "2. Visualização de Dados\n",
    "3. Pré processamento\n",
    "4. Modelo de *Machine Learning*\n",
    "5. Resultados"
   ]
  },
  {
   "cell_type": "code",
   "execution_count": 3,
   "id": "7ff3f91f",
   "metadata": {},
   "outputs": [],
   "source": [
    "# Imports\n",
    "import numpy as np\n",
    "import pandas as pd\n",
    "import seaborn as sns\n",
    "\n",
    "#Reading data\n",
    "\n",
    "file_path = './data/glass.csv'\n",
    "df = pd.read_csv(file_path)"
   ]
  },
  {
   "cell_type": "markdown",
   "id": "abb3b4f6",
   "metadata": {},
   "source": [
    "## 1. Análise Exploratória dos Dados (EDA - *Exploratory Data Analysis*)"
   ]
  },
  {
   "cell_type": "code",
   "execution_count": 2,
   "id": "f7522cb2",
   "metadata": {},
   "outputs": [
    {
     "name": "stdout",
     "output_type": "stream",
     "text": [
      "<class 'pandas.core.frame.DataFrame'>\n",
      "RangeIndex: 214 entries, 0 to 213\n",
      "Data columns (total 10 columns):\n",
      " #   Column  Non-Null Count  Dtype  \n",
      "---  ------  --------------  -----  \n",
      " 0   RI      214 non-null    float64\n",
      " 1   Na      214 non-null    float64\n",
      " 2   Mg      214 non-null    float64\n",
      " 3   Al      214 non-null    float64\n",
      " 4   Si      214 non-null    float64\n",
      " 5   K       214 non-null    float64\n",
      " 6   Ca      214 non-null    float64\n",
      " 7   Ba      214 non-null    float64\n",
      " 8   Fe      214 non-null    float64\n",
      " 9   Type    214 non-null    int64  \n",
      "dtypes: float64(9), int64(1)\n",
      "memory usage: 16.8 KB\n"
     ]
    }
   ],
   "source": [
    "df.info()"
   ]
  },
  {
   "cell_type": "markdown",
   "id": "564f94f0",
   "metadata": {},
   "source": [
    "A base de dados possui 214 entradas e 10 colunas. As 9 primeiras colunas são os atributos e a última coluna é a classe. Todos os atributos são números flutuantes e a coluna da classe são inteiros."
   ]
  },
  {
   "cell_type": "code",
   "execution_count": 17,
   "id": "96f7ddf3",
   "metadata": {},
   "outputs": [
    {
     "name": "stdout",
     "output_type": "stream",
     "text": [
      "Colunas: ['RI' 'Na' 'Mg' 'Al' 'Si' 'K' 'Ca' 'Ba' 'Fe' 'Type']\n",
      "Classes: [1 2 3 5 6 7]\n"
     ]
    }
   ],
   "source": [
    "# Mostrar as colunas\n",
    "print('Colunas: {}'.format(df.columns.values))\n",
    "\n",
    "#Contar quantas entradas cada classe possui\n",
    "print('Classes: {}'.format(df['Type'].unique()))"
   ]
  },
  {
   "cell_type": "markdown",
   "id": "7a03cad1",
   "metadata": {},
   "source": [
    "A base de dados possui 10 colunas, sendo as 9 primeiras as features e a última o tipo de vidro. Cada feature significa:\n",
    "* RI - Índice de Fefração\n",
    "* Na - Sódio (unidade de medida: peso percentual no óxido correspondente, como o restante das features)\n",
    "* Mg - Magnésio\n",
    "* Al - Alumínio\n",
    "* Si -Silício\n",
    "* K - Potássio\n",
    "* Ca - Cálcio\n",
    "* Ba - Bário\n",
    "* Fe - Ferro\n",
    "\n",
    "As classes correspondem de 1 a 9 para cada tipo de vidro, tal que:\n",
    "* 1 - construção de janelas flutuante processado\n",
    "* 2 - building_windows_non_float_processed \n",
    "* 3 - vehicle_windows_float_processed \n",
    "* 4 - vehicle_windows_non_float_processed\n",
    "* 5 - containers \n",
    "* 6 - tableware \n",
    "* 7 - headlamps\n",
    "\n",
    "Percebe-se que na saída do código acima, em \"Classes\", não há o tipo 4. Isto é, não existe amostra para a classe 4."
   ]
  },
  {
   "cell_type": "code",
   "execution_count": 32,
   "id": "146fb75f",
   "metadata": {},
   "outputs": [
    {
     "data": {
      "text/plain": [
       "<AxesSubplot:xlabel='Type', ylabel='count'>"
      ]
     },
     "execution_count": 32,
     "metadata": {},
     "output_type": "execute_result"
    },
    {
     "data": {
      "image/png": "[encoded data removed]",
      "text/plain": [
       "<Figure size 432x288 with 1 Axes>"
      ]
     },
     "metadata": {
      "needs_background": "light"
     },
     "output_type": "display_data"
    }
   ],
   "source": [
    "sns.countplot(x='Type',data=df)"
   ]
  },
  {
   "cell_type": "markdown",
   "id": "4d0d0e8c",
   "metadata": {},
   "source": [
    "É perceptível que as classes 1 e 2 possuem mais amostras. Além disso, não existe amostra para a classe 4. Por esse motivo deve-se ter cuidado para modelar e pesar classes desbalanceadas."
   ]
  }
 ],
 "metadata": {
  "kernelspec": {
   "display_name": "Python 3 (ipykernel)",
   "language": "python",
   "name": "python3"
  },
  "language_info": {
   "codemirror_mode": {
    "name": "ipython",
    "version": 3
   },
   "file_extension": ".py",
   "mimetype": "text/x-python",
   "name": "python",
   "nbconvert_exporter": "python",
   "pygments_lexer": "ipython3",
   "version": "3.9.7"
  }
 },
 "nbformat": 4,
 "nbformat_minor": 5
}
